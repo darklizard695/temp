{
 "cells": [
  {
   "cell_type": "code",
   "execution_count": 1,
   "metadata": {},
   "outputs": [],
   "source": [
    "using FlightMechanics\n",
    "using FlightMechanics.Models\n",
    "using FlightMechanics.Aircrafts"
   ]
  },
  {
   "cell_type": "code",
   "execution_count": 2,
   "metadata": {},
   "outputs": [],
   "source": [
    "# Initialize Aircraft Model\n",
    "ac = C310();     ## C310<:Aircrafts\n",
    "\n",
    "#= (::C310<:Aircraft)\n",
    "\n",
    "        mass_props::RigidSolid\n",
    "        pfm::PointForcesMoments\n",
    "        aerodynamics::C310Aerodynamics\n",
    "        propulsion::Propulsion\n",
    "=#"
   ]
  },
  {
   "cell_type": "code",
   "execution_count": 3,
   "metadata": {},
   "outputs": [
    {
     "data": {
      "text/plain": [
       "RigidSolid(1837.0475999999999, [1.13152, -1.16036e-17, 0.32216], [18022.1 -5.16969e-15 18.1785; -5.16969e-15 2778.09 3.95378e-14; 18.1785 3.95378e-14 20913.9])"
      ]
     },
     "execution_count": 3,
     "metadata": {},
     "output_type": "execute_result"
    }
   ],
   "source": [
    "ac.mass_props\n",
    "\n",
    "#=(::RigidSolid)\n",
    "\n",
    "        mass::Number\n",
    "        cg::Array{T, 1} where T<:Number\n",
    "        inertia::Array{T, 2} where T<:Number\n",
    "=#"
   ]
  },
  {
   "cell_type": "code",
   "execution_count": 4,
   "metadata": {},
   "outputs": [
    {
     "data": {
      "text/plain": [
       "PointForcesMoments(Number[0.0, 0.0, 0.0], Number[0.0, 0.0, 0.0], Number[0.0, 0.0, 0.0])"
      ]
     },
     "execution_count": 4,
     "metadata": {},
     "output_type": "execute_result"
    }
   ],
   "source": [
    "ac.pfm    # PFM for whole aircraft => F_gravity + F_aero + F_prop\n",
    "\n",
    "#=(::PointForcesMoments)\n",
    "\n",
    "        point::Array{Number, 1}\n",
    "        forces::Array{Number, 1}\n",
    "        moments::Array{Number, 1}\n",
    "=#"
   ]
  },
  {
   "cell_type": "code",
   "execution_count": 5,
   "metadata": {},
   "outputs": [
    {
     "data": {
      "text/plain": [
       "C310Aerodynamics(PointForcesMoments(Number[0.0, 0.0, 0.0], Number[0.0, 0.0, 0.0], Number[0.0, 0.0, 0.0]), PointForcesMoments(Number[0.0, 0.0, 0.0], Number[0.0, 0.0, 0.0], Number[0.0, 0.0, 0.0]), PointForcesMoments(Number[0.0, 0.0, 0.0], Number[0.0, 0.0, 0.0], Number[0.0, 0.0, 0.0]), PointForcesMoments(Number[0.0, 0.0, 0.0], Number[0.0, 0.0, 0.0], Number[0.0, 0.0, 0.0]))"
      ]
     },
     "execution_count": 5,
     "metadata": {},
     "output_type": "execute_result"
    }
   ],
   "source": [
    "ac.aerodynamics\n",
    "\n",
    "#=(::C310Aerodynamics<:Aerodynamics)\n",
    "\n",
    "        wind_pfm::PointForcesMoments       # wind axis\n",
    "        wind_coeff_pfm::PointForcesMoments\n",
    "        body_pfm::PointForcesMoments       # body axis\n",
    "        body_coeff_pfm::PointForcesMoments\n",
    "=#"
   ]
  },
  {
   "cell_type": "code",
   "execution_count": 6,
   "metadata": {},
   "outputs": [
    {
     "data": {
      "text/plain": [
       "PointForcesMoments(Number[0.0, 0.0, 0.0], Number[0.0, 0.0, 0.0], Number[0.0, 0.0, 0.0])"
      ]
     },
     "execution_count": 6,
     "metadata": {},
     "output_type": "execute_result"
    }
   ],
   "source": [
    "ac.aerodynamics.body_coeff_pfm"
   ]
  },
  {
   "cell_type": "code",
   "execution_count": 7,
   "metadata": {},
   "outputs": [
    {
     "data": {
      "text/plain": [
       "Propulsion(PointForcesMoments(Number[0.0, 0.0, 0.0], Number[0.0, 0.0, 0.0], Number[0.0, 0.0, 0.0]), 0, 0, 0, Engine[C310EngineRight(PointForcesMoments(Number[0.0, 0.0, 0.0], Number[0.0, 0.0, 0.0], Number[0.0, 0.0, 0.0]), 0, 0, 0, RigidSolid[RigidSolid(102.058, [0.889, 5.32892, 0.71882], [0.0 0.0 0.0; 0.0 0.0 0.0; 0.0 0.0 0.0]), RigidSolid(43.0912, [0.889, 1.05664, 0.29718], [0.0 0.0 0.0; 0.0 0.0 0.0; 0.0 0.0 0.0])], [0.0, 0.0, 0.0]), C310EngineLeft(PointForcesMoments(Number[0.0, 0.0, 0.0], Number[0.0, 0.0, 0.0], Number[0.0, 0.0, 0.0]), 0, 0, 0, RigidSolid[RigidSolid(102.058, [0.889, -5.32892, 0.71882], [0.0 0.0 0.0; 0.0 0.0 0.0; 0.0 0.0 0.0]), RigidSolid(43.0912, [0.889, -1.05664, 0.29718], [0.0 0.0 0.0; 0.0 0.0 0.0; 0.0 0.0 0.0])], [0.0, 0.0, 0.0])], [0.0, 0.0, 0.0])"
      ]
     },
     "execution_count": 7,
     "metadata": {},
     "output_type": "execute_result"
    }
   ],
   "source": [
    "ac.propulsion\n",
    "\n",
    "#=(::Propulsion)\n",
    "\n",
    "        pfm::PointForcesMoments\n",
    "        cj::Number\n",
    "        power::Number\n",
    "        efficiency::Number\n",
    "        engines::Array{Engine, 1}\n",
    "        # Gyroscopic effects\n",
    "        h::Array{T, 1} where T<:Number  # angular momentum [kg·m²/s]\n",
    "=#"
   ]
  },
  {
   "cell_type": "code",
   "execution_count": 8,
   "metadata": {},
   "outputs": [
    {
     "data": {
      "text/plain": [
       "0"
      ]
     },
     "execution_count": 8,
     "metadata": {},
     "output_type": "execute_result"
    }
   ],
   "source": [
    "ac.propulsion.power"
   ]
  },
  {
   "cell_type": "code",
   "execution_count": 9,
   "metadata": {},
   "outputs": [
    {
     "data": {
      "text/plain": [
       "2-element Array{Engine,1}:\n",
       " C310EngineRight(PointForcesMoments(Number[0.0, 0.0, 0.0], Number[0.0, 0.0, 0.0], Number[0.0, 0.0, 0.0]), 0, 0, 0, RigidSolid[RigidSolid(102.058, [0.889, 5.32892, 0.71882], [0.0 0.0 0.0; 0.0 0.0 0.0; 0.0 0.0 0.0]), RigidSolid(43.0912, [0.889, 1.05664, 0.29718], [0.0 0.0 0.0; 0.0 0.0 0.0; 0.0 0.0 0.0])], [0.0, 0.0, 0.0]) \n",
       " C310EngineLeft(PointForcesMoments(Number[0.0, 0.0, 0.0], Number[0.0, 0.0, 0.0], Number[0.0, 0.0, 0.0]), 0, 0, 0, RigidSolid[RigidSolid(102.058, [0.889, -5.32892, 0.71882], [0.0 0.0 0.0; 0.0 0.0 0.0; 0.0 0.0 0.0]), RigidSolid(43.0912, [0.889, -1.05664, 0.29718], [0.0 0.0 0.0; 0.0 0.0 0.0; 0.0 0.0 0.0])], [0.0, 0.0, 0.0])"
      ]
     },
     "execution_count": 9,
     "metadata": {},
     "output_type": "execute_result"
    }
   ],
   "source": [
    "ac.propulsion.engines\n",
    "\n",
    "#= (::C310Engine)\n",
    "\n",
    "        pfm::PointForcesMoments\n",
    "        cj::Number\n",
    "        power::Number\n",
    "        efficiency::Number\n",
    "        tanks::Array{RigidSolid, 1}\n",
    "        h::Array{T, 1} where T<:Number  # angular momentum [kg·m²/s]\n",
    "=#"
   ]
  },
  {
   "cell_type": "code",
   "execution_count": 10,
   "metadata": {},
   "outputs": [
    {
     "data": {
      "text/plain": [
       "0"
      ]
     },
     "execution_count": 10,
     "metadata": {},
     "output_type": "execute_result"
    }
   ],
   "source": [
    "ac.propulsion.engines[1].power"
   ]
  },
  {
   "cell_type": "code",
   "execution_count": 11,
   "metadata": {},
   "outputs": [
    {
     "data": {
      "text/plain": [
       "C310"
      ]
     },
     "execution_count": 11,
     "metadata": {},
     "output_type": "execute_result"
    }
   ],
   "source": [
    "typeof(ac)"
   ]
  },
  {
   "cell_type": "code",
   "execution_count": 12,
   "metadata": {},
   "outputs": [
    {
     "data": {
      "text/plain": [
       "\"Cessna 310\""
      ]
     },
     "execution_count": 12,
     "metadata": {},
     "output_type": "execute_result"
    }
   ],
   "source": [
    "get_name(ac)"
   ]
  },
  {
   "cell_type": "code",
   "execution_count": 13,
   "metadata": {},
   "outputs": [
    {
     "data": {
      "text/plain": [
       "16.258032"
      ]
     },
     "execution_count": 13,
     "metadata": {},
     "output_type": "execute_result"
    }
   ],
   "source": [
    "get_wing_area(ac)"
   ]
  },
  {
   "cell_type": "code",
   "execution_count": 14,
   "metadata": {},
   "outputs": [],
   "source": [
    "att = Attitude(1/180*pi, 0, 0)      ## att(psi, theta, phi)\n",
    "pos = PositionEarth(0, 0, -1000)    ## pos(x,y,z)\n",
    "vel = [65.0, 0.0, 3.0]              ## vel => u ,v, w\n",
    "ang_vel = [0., 0., 0.]              ## ang_vel => p, q, r\n",
    "accel = [0., 0., 0.]                ## accel => u_dot, v_dot, w_dot\n",
    "ang_accel = [0., 0., 0.];            ## ang_accel => p_dot, q_dot, r_dot"
   ]
  },
  {
   "cell_type": "code",
   "execution_count": 15,
   "metadata": {},
   "outputs": [
    {
     "data": {
      "text/plain": [
       "State(Position([0.0, 0.0, 1000.0], [0, 0, -1000], [6.37914e6, 0.0, 0.0]), Attitude(0.017453292519943295, 0, 0, 0.9999619230641713, 0.0, 0.0, 0.008726535498373935), [65.0, 0.0, 3.0], [0.0, 0.0, 0.0], [0.0, 0.0, 0.0], [0.0, 0.0, 0.0])"
      ]
     },
     "execution_count": 15,
     "metadata": {},
     "output_type": "execute_result"
    }
   ],
   "source": [
    "state = State(pos, att, vel, ang_vel, accel, ang_accel)     \n",
    "\n",
    "#= (::State) \n",
    "            position::Position\n",
    "            attitude::Attitude\n",
    "            velocity::Array{T, 1} where T<:Number\n",
    "            angular_velocity::Array{T, 1} where T<:Number\n",
    "            acceleration::Array{T, 1} where T<:Number\n",
    "            angular_acceleration::Array{T, 1} where T<:Number\n",
    "=##"
   ]
  },
  {
   "cell_type": "code",
   "execution_count": 16,
   "metadata": {},
   "outputs": [
    {
     "data": {
      "text/plain": [
       "Environment(AtmosphereISA(281.65, 89874.5629162195, 1.111642500306032, 336.43397148578794), ConstantWind(0, 0, 0), EarthConstantGravity([0.0, 0.0, 9.80665]))"
      ]
     },
     "execution_count": 16,
     "metadata": {},
     "output_type": "execute_result"
    }
   ],
   "source": [
    "env = Environment(pos, atmos=\"ISA1978\", wind=\"NoWind\", grav=\"const\")\n",
    "\n",
    "#=  (::Environment)\n",
    "        atmos::Atmosphere\n",
    "        wind::Wind\n",
    "        grav::Gravity\n",
    "=##"
   ]
  },
  {
   "cell_type": "code",
   "execution_count": 17,
   "metadata": {},
   "outputs": [
    {
     "data": {
      "text/plain": [
       "AeroState(0.04612111601451121, 0.0, 0, 65.06919393998976, 61.98547786670575, 62.01791309503223, 65.06919393998976, 2353.3471731478694, 0.19340851238246162)"
      ]
     },
     "execution_count": 17,
     "metadata": {},
     "output_type": "execute_result"
    }
   ],
   "source": [
    "aerostate = AeroState(state, env)       ## Aerodynamics states\n",
    "\n",
    "#= (::AeroState)\n",
    "\n",
    "        alpha :: Number  # AOA [rad]\n",
    "        beta :: Number  # AOS [rad]\n",
    "\n",
    "        alpha_dot::Number  # rad/s\n",
    "\n",
    "        tas :: Number  # True Airspeed [m/s]\n",
    "        eas :: Number  # Equivalent Airspeed [m/s]\n",
    "        cas :: Number  # Calibrated Airspeed [m/s]\n",
    "        ias :: Number  # Indicated Airspeed [m/s]\n",
    "\n",
    "        qinf :: Number  # Dynamic Pressure [Pa]\n",
    "        mach :: Number  # Mach number\n",
    "=##"
   ]
  },
  {
   "cell_type": "code",
   "execution_count": 18,
   "metadata": {},
   "outputs": [
    {
     "data": {
      "text/plain": [
       "C310FCS(RangeControl(0.0, Number[0, 1]), RangeControl(0.0, Number[0, 1]), RangeControl(0.0, Number[0, 1]), RangeControl(0.0, Number[0, 1]), RangeControl(0.0, Number[0, 1]), RangeControl(0.0, Number[-0.436332, 0.610865]), RangeControl(0.0, Number[-0.314159, 0.244346]), RangeControl(0.0, Number[-0.471239, 0.471239]), RangeControl(0.0, Number[0.0, 1.0]), RangeControl(0.0, Number[0.0, 1.0]))"
      ]
     },
     "execution_count": 18,
     "metadata": {},
     "output_type": "execute_result"
    }
   ],
   "source": [
    "fcs = C310FCS()     ## ranges for controls for C310 aircraft\n",
    "\n",
    "#= (::C310FCS<:FCS)\n",
    "\n",
    "            # Cabin controls\n",
    "            stick_longitudinal::RangeControl\n",
    "            stick_lateral::RangeControl\n",
    "            pedals::RangeControl\n",
    "            thrust1::RangeControl\n",
    "            thrust2::RangeControl\n",
    "\n",
    "            # Aerodynamic surfaces\n",
    "            de::RangeControl\n",
    "            da::RangeControl\n",
    "            dr::RangeControl\n",
    "            # Engine\n",
    "            t1::RangeControl\n",
    "            t2::RangeControl\n",
    "=##"
   ]
  },
  {
   "cell_type": "code",
   "execution_count": 19,
   "metadata": {},
   "outputs": [
    {
     "data": {
      "text/plain": [
       "RangeControl(0.0, Number[-0.436332, 0.610865])"
      ]
     },
     "execution_count": 19,
     "metadata": {},
     "output_type": "execute_result"
    }
   ],
   "source": [
    "fcs.de       # elevator current value and range"
   ]
  },
  {
   "cell_type": "code",
   "execution_count": 20,
   "metadata": {},
   "outputs": [],
   "source": [
    "## sets controls to desired value\n",
    "set_stick_lon(fcs, 0.43)\n",
    "set_stick_lat(fcs, 0.562)\n",
    "set_pedals(fcs, 0.5)\n",
    "set_thtl(fcs, 0.68);"
   ]
  },
  {
   "cell_type": "code",
   "execution_count": 21,
   "metadata": {},
   "outputs": [
    {
     "name": "stdout",
     "output_type": "stream",
     "text": [
      "C310FCS(RangeControl(0.43, Number[0, 1]), RangeControl(0.562, Number[0, 1]), RangeControl(0.5, Number[0, 1]), RangeControl(0.68, Number[0, 1]), RangeControl(0.68, Number[0, 1]), RangeControl(0.0139626340159546, Number[-0.436332, 0.610865]), RangeControl(-0.00027925268031903094, Number[-0.314159, 0.244346]), RangeControl(0.0, Number[-0.471239, 0.471239]), RangeControl(0.68, Number[0.0, 1.0]), RangeControl(0.68, Number[0.0, 1.0]))\n"
     ]
    }
   ],
   "source": [
    "println(fcs)"
   ]
  },
  {
   "cell_type": "code",
   "execution_count": 22,
   "metadata": {},
   "outputs": [],
   "source": [
    "grav = get_gravity(env);"
   ]
  },
  {
   "cell_type": "code",
   "execution_count": 23,
   "metadata": {},
   "outputs": [],
   "source": [
    "ac = calculate_aircraft(ac, fcs, aerostate, state, grav; consume_fuel=false);\n",
    "\n",
    "#= calculate the \n",
    "        - mass_props::RigidSolid,\n",
    "                        RigidSolid => \n",
    "                                    (::RigidSolid)\n",
    "                                                mass::Number\n",
    "                                                cg::Array{T, 1} where T<:Number\n",
    "                                                inertia::Array{T, 2} where T<:Number\n",
    "        - pfm::PointForcesMoments\n",
    "                        PointForcesMoments =>\n",
    "                                    (::PointForcesMoments)\n",
    "                                                point::Array{Number, 1}\n",
    "                                                forces::Array{Number, 1}\n",
    "                                                moments::Array{Number, 1}\n",
    "        - aerodynamics::C310Aerodynamics\n",
    "                        Aerodynamics => \n",
    "                                    (::C310Aerodynamics<:Aerodynamics)\n",
    "                                                wind_pfm::PointForcesMoments       # wind axis system\n",
    "                                                wind_coeff_pfm::PointForcesMoments\n",
    "                                                body_pfm::PointForcesMoments       # body axis system\n",
    "                                                body_coeff_pfm::PointForcesMoments\n",
    "        - propulsion::Propulsion\n",
    "                        Propulsion =>\n",
    "                                    (::Propulsion)\n",
    "                                                pfm::PointForcesMoments\n",
    "                                                cj::Number\n",
    "                                                power::Number\n",
    "                                                efficiency::Number\n",
    "                                                engines::Array{Engine, 1}\n",
    "                                                        (::C310EngineLeft<:C310Engine)\n",
    "                                                                    pfm::PointForcesMoments\n",
    "                                                                    cj::Number\n",
    "                                                                    power::Number\n",
    "                                                                    efficiency::Number\n",
    "                                                                    tanks::Array{RigidSolid, 1}\n",
    "                                                                    h::Array{T, 1} where T<:Number  # angular momentum [kg·m²/s]\n",
    "                                                # Gyroscopic effects\n",
    "                                                h::Array{T, 1} where T<:Number  # angular momentum [kg·m²/s]\n",
    "    properties of the (::Aircraft)\n",
    "=##"
   ]
  },
  {
   "cell_type": "code",
   "execution_count": 24,
   "metadata": {},
   "outputs": [
    {
     "data": {
      "text/plain": [
       "1837.0475999999999"
      ]
     },
     "execution_count": 24,
     "metadata": {},
     "output_type": "execute_result"
    }
   ],
   "source": [
    "ac.mass_props.mass"
   ]
  },
  {
   "cell_type": "code",
   "execution_count": 25,
   "metadata": {},
   "outputs": [
    {
     "data": {
      "text/plain": [
       "3-element Array{Float64,1}:\n",
       "  1.131522962962963     \n",
       " -1.1603554569191896e-17\n",
       "  0.3221598024691358    "
      ]
     },
     "execution_count": 25,
     "metadata": {},
     "output_type": "execute_result"
    }
   ],
   "source": [
    "ac.mass_props.cg"
   ]
  },
  {
   "cell_type": "code",
   "execution_count": 26,
   "metadata": {},
   "outputs": [
    {
     "data": {
      "text/plain": [
       "3×3 Array{Float64,2}:\n",
       " 18022.1            -5.16969e-15     18.1785     \n",
       "    -5.16969e-15  2778.09             3.95378e-14\n",
       "    18.1785          3.95378e-14  20913.9        "
      ]
     },
     "execution_count": 26,
     "metadata": {},
     "output_type": "execute_result"
    }
   ],
   "source": [
    "ac.mass_props.inertia"
   ]
  },
  {
   "cell_type": "code",
   "execution_count": 27,
   "metadata": {},
   "outputs": [
    {
     "data": {
      "text/plain": [
       "PointForcesMoments(Number[1.13152, -1.16036e-17, 0.32216], Number[2003.91, 0.0, -383.495], Number[-20.5154, 593.622, 1.05222])"
      ]
     },
     "execution_count": 27,
     "metadata": {},
     "output_type": "execute_result"
    }
   ],
   "source": [
    "ac.pfm"
   ]
  },
  {
   "cell_type": "code",
   "execution_count": 28,
   "metadata": {},
   "outputs": [
    {
     "data": {
      "text/plain": [
       "3-element Array{Number,1}:\n",
       " 2003.9060443475582 \n",
       "    0.0             \n",
       " -383.49516477084035"
      ]
     },
     "execution_count": 28,
     "metadata": {},
     "output_type": "execute_result"
    }
   ],
   "source": [
    "ac.pfm.forces"
   ]
  },
  {
   "cell_type": "code",
   "execution_count": 29,
   "metadata": {},
   "outputs": [
    {
     "data": {
      "text/plain": [
       "C310Aerodynamics(PointForcesMoments(Number[1.1684, 0.0, 0.21844], Number[-1882.49, 0.0, -18331.5], Number[-20.445, -409.679, 1.99696]), PointForcesMoments(Number[1.1684, 0.0, 0.21844], Number[-0.0492014, 0.0, -0.479119], Number[-4.80315e-5, -0.00716934, 4.69145e-6]), PointForcesMoments(Number[1.1684, 0.0, 0.21844], Number[-1035.31, 0.0, -18398.8], Number[-20.5154, -409.679, 1.05222]), PointForcesMoments(Number[1.1684, 0.0, 0.21844], Number[-0.0270594, 0.0, -0.480878], Number[-4.81967e-5, -0.00716934, 2.47198e-6]))"
      ]
     },
     "execution_count": 29,
     "metadata": {},
     "output_type": "execute_result"
    }
   ],
   "source": [
    "ac.aerodynamics"
   ]
  },
  {
   "cell_type": "code",
   "execution_count": 30,
   "metadata": {},
   "outputs": [
    {
     "data": {
      "text/plain": [
       "PointForcesMoments(Number[1.1684, 0.0, 0.21844], Number[-0.0270594, 0.0, -0.480878], Number[-4.81967e-5, -0.00716934, 2.47198e-6])"
      ]
     },
     "execution_count": 30,
     "metadata": {},
     "output_type": "execute_result"
    }
   ],
   "source": [
    "ac.aerodynamics.body_coeff_pfm\n",
    "\n",
    "#=(::PointForcesMoments)\n",
    "\n",
    "        point::Array{Number, 1}    =>   Aerodynamic Reference Point\n",
    "        forces::Array{Number, 1}   =>   CX, CY, CZ\n",
    "        moments::Array{Number, 1}  =>   Cl, Cm, Cn\n",
    "=#"
   ]
  },
  {
   "cell_type": "code",
   "execution_count": 31,
   "metadata": {},
   "outputs": [
    {
     "data": {
      "text/plain": [
       "PointForcesMoments(Number[1.1684, 0.0, 0.21844], Number[-0.0492014, 0.0, -0.479119], Number[-4.80315e-5, -0.00716934, 4.69145e-6])"
      ]
     },
     "execution_count": 31,
     "metadata": {},
     "output_type": "execute_result"
    }
   ],
   "source": [
    "ac.aerodynamics.wind_coeff_pfm\n",
    "\n",
    "#=(::PointForcesMoments)\n",
    "\n",
    "        point::Array{Number, 1}    =>   Aerodynamic Reference Point\n",
    "        forces::Array{Number, 1}   =>   CD, CY, CL\n",
    "        moments::Array{Number, 1}  =>   Cl, Cm, Cn\n",
    "=#"
   ]
  },
  {
   "cell_type": "code",
   "execution_count": 32,
   "metadata": {},
   "outputs": [
    {
     "name": "stdout",
     "output_type": "stream",
     "text": [
      "for engine 1 : \n",
      "pfm = PointForcesMoments(Number[-0.6985, 1.778, 0.3937], Number[1519.61, 0.0, 0.0], Number[0, 0, 0])\n",
      "cj = 0.0\n",
      "power = 131839.76\n",
      "efficiency = 0.75\n",
      "tank_1 = RigidSolid(102.0582, [0.889, 5.32892, 0.71882], [0.0 0.0 0.0; 0.0 0.0 0.0; 0.0 0.0 0.0])\n",
      "tank_2 = RigidSolid(43.09124, [0.889, 1.05664, 0.29718], [0.0 0.0 0.0; 0.0 0.0 0.0; 0.0 0.0 0.0])\n",
      "h = [0.0, 0.0, 0.0]\n"
     ]
    }
   ],
   "source": [
    "println(\"for engine 1 : \")\n",
    "println(\"pfm = $(ac.propulsion.engines[1].pfm)\")\n",
    "println(\"cj = $(ac.propulsion.engines[1].cj)\")\n",
    "println(\"power = $(ac.propulsion.engines[1].power)\")\n",
    "println(\"efficiency = $(ac.propulsion.engines[1].efficiency)\")\n",
    "println(\"tank_1 = $(ac.propulsion.engines[1].tanks[1])\")\n",
    "println(\"tank_2 = $(ac.propulsion.engines[1].tanks[2])\")\n",
    "println(\"h = $(ac.propulsion.engines[1].h)\")"
   ]
  },
  {
   "cell_type": "code",
   "execution_count": 33,
   "metadata": {},
   "outputs": [],
   "source": [
    "# trim\n",
    "tas = 50    # m/sec\n",
    "h = 300     # m\n",
    "psi = pi/3  # rad\n",
    "gamma = 5 * DEG2RAD\n",
    "turn_rate = 0.0\n",
    "α0 = 5.0*DEG2RAD    # initial AOA\n",
    "β0 = 0.0*DEG2RAD    # initial AOS\n",
    "ac2, aerostate2, state2, fcs2 = steady_state_trim(ac, fcs, env, tas, pos, psi, gamma, turn_rate, α0, β0);\n",
    "# ac2         = trimmed aircraft model\n",
    "# aerostate2 = trimmed aerodynamics states\n",
    "# state2     = trimmed values of state\n",
    "# fcs2       = trimmed values of controls"
   ]
  },
  {
   "cell_type": "code",
   "execution_count": 34,
   "metadata": {},
   "outputs": [
    {
     "data": {
      "text/plain": [
       "AeroState(0.10842691301621488, 2.7100968614964776e-15, 0, 50, 47.63043316924444, 47.64520837399711, 50, 1389.55312538254, 0.14861757205785672)"
      ]
     },
     "execution_count": 34,
     "metadata": {},
     "output_type": "execute_result"
    }
   ],
   "source": [
    "aerostate2"
   ]
  },
  {
   "cell_type": "code",
   "execution_count": 35,
   "metadata": {},
   "outputs": [
    {
     "data": {
      "text/plain": [
       "State(Position([0.0, 0.0, 1000.0], [0, 0, -1000], [6.37914e6, 0.0, 0.0]), Attitude(1.0471975511965976, 0.19569337561593134, 0.0, 0.8618830577739667, -0.04884531612549089, 0.08460256924111362, 0.4976084154157773), [49.7064, 1.35505e-13, 5.41073], [-0.0, 0.0, 0.0], [0.0, 0.0, 0.0], [0.0, 0.0, 0.0])"
      ]
     },
     "execution_count": 35,
     "metadata": {},
     "output_type": "execute_result"
    }
   ],
   "source": [
    "state2"
   ]
  },
  {
   "cell_type": "code",
   "execution_count": 36,
   "metadata": {},
   "outputs": [
    {
     "data": {
      "text/plain": [
       "C310FCS(RangeControl(0.41237944761033185, Number[0, 1]), RangeControl(0.5624999999999251, Number[0, 1]), RangeControl(0.49999999999996914, Number[0, 1]), RangeControl(0.6137216538703006, Number[0, 1]), RangeControl(0.6137216538703006, Number[0, 1]), RangeControl(-0.0044895652972372635, Number[-0.436332, 0.610865]), RangeControl(-4.18554080283684e-14, Number[-0.314159, 0.244346]), RangeControl(-2.90878432451791e-14, Number[-0.471239, 0.471239]), RangeControl(0.6137216538703006, Number[0.0, 1.0]), RangeControl(0.6137216538703006, Number[0.0, 1.0]))"
      ]
     },
     "execution_count": 36,
     "metadata": {},
     "output_type": "execute_result"
    }
   ],
   "source": [
    "fcs2"
   ]
  },
  {
   "cell_type": "code",
   "execution_count": null,
   "metadata": {},
   "outputs": [],
   "source": []
  }
 ],
 "metadata": {
  "@webio": {
   "lastCommId": null,
   "lastKernelId": null
  },
  "kernelspec": {
   "display_name": "Julia 1.1.0",
   "language": "julia",
   "name": "julia-1.1"
  },
  "language_info": {
   "file_extension": ".jl",
   "mimetype": "application/julia",
   "name": "julia",
   "version": "1.1.0"
  }
 },
 "nbformat": 4,
 "nbformat_minor": 2
}
